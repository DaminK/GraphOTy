{
 "cells": [
  {
   "cell_type": "code",
   "execution_count": 4,
   "metadata": {},
   "outputs": [],
   "source": [
    "#Data handling\n",
    "from mudata import MuData\n",
    "import numpy as np\n",
    "from anndata import AnnData\n",
    "import scanpy\n",
    "import pandas as pd\n",
    "from sklearn.neighbors import kneighbors_graph\n",
    "import networkx as nx\n",
    "\n",
    "#Embedding\n",
    "from node2vec import Node2Vec\n",
    "from sklearn.manifold import TSNE\n",
    "\n",
    "#Modelling\n",
    "from sklearn.mixture import GaussianMixture\n",
    "\n",
    "#OT\n",
    "import ot\n",
    "#from gmmot import *\n",
    "\n",
    "#Plot\n",
    "from pymnet import *\n",
    "import seaborn as sns\n",
    "import matplotlib.pyplot as plt\n",
    "\n",
    "#GRAPE\n",
    "import grape\n",
    "from grape import Graph\n",
    "from grape.embedders import Node2VecGloVeEnsmallen\n",
    "\n",
    "rng = np.random.default_rng(seed=42)\n",
    "%matplotlib inline"
   ]
  },
  {
   "cell_type": "code",
   "execution_count": 36,
   "metadata": {},
   "outputs": [],
   "source": [
    "#Loading\n",
    "path = \"GT_IZ_R9_multinex.edj\"\n",
    "edgelist_df = pd.read_csv(path,sep='\\t',header=None)"
   ]
  },
  {
   "attachments": {},
   "cell_type": "markdown",
   "metadata": {},
   "source": [
    "#### Edgelist to Multigraph"
   ]
  },
  {
   "cell_type": "code",
   "execution_count": 37,
   "metadata": {},
   "outputs": [],
   "source": [
    "#Number of layers corresponds to number of unique values in layer_source (col index 1) and layer_target (col index 3)\n",
    "n_layers = len(pd.unique(edgelist_df.iloc[:,[1,3]].values.ravel()))\n",
    "\n",
    "#Create networkx multigraph\n",
    "G = nx.MultiGraph()\n",
    "\n",
    "for index, row in edgelist.iterrows():\n",
    "    source,layer_source,target,layer_target,weight = tuple(row) #assignment for better readbility\n",
    "\n",
    "    G.add_node(source, layer=layer_source) #This will break if identical nodes are on multiple layers!!!\n",
    "    G.add_node(target, layer=layer_target)\n",
    "    G.add_edge(source, target, weight=weight, layer_source=layer_source, layer_target=layer_target)\n",
    "\n",
    "    \n",
    "\n",
    "nx.write_edgelist(G, path.split('.', 1)[0]+'.edgelist') \n",
    "nx.write_gexf(G, path.split('.', 1)[0]+'.gexf') "
   ]
  },
  {
   "attachments": {},
   "cell_type": "markdown",
   "metadata": {},
   "source": [
    "#### Edgelist to MuData"
   ]
  },
  {
   "cell_type": "code",
   "execution_count": 40,
   "metadata": {},
   "outputs": [
    {
     "data": {
      "text/plain": [
       "['graph 0 iter 0',\n",
       " 'graph 0 iter 1',\n",
       " 'graph 1 iter 0',\n",
       " 'graph 1 iter 1',\n",
       " 'graph 2 iter 0',\n",
       " 'graph 2 iter 1']"
      ]
     },
     "execution_count": 40,
     "metadata": {},
     "output_type": "execute_result"
    }
   ],
   "source": [
    "#TODO \n"
   ]
  },
  {
   "cell_type": "code",
   "execution_count": null,
   "metadata": {},
   "outputs": [],
   "source": []
  }
 ],
 "metadata": {
  "kernelspec": {
   "display_name": "jupyter_notebook",
   "language": "python",
   "name": "python3"
  },
  "language_info": {
   "codemirror_mode": {
    "name": "ipython",
    "version": 3
   },
   "file_extension": ".py",
   "mimetype": "text/x-python",
   "name": "python",
   "nbconvert_exporter": "python",
   "pygments_lexer": "ipython3",
   "version": "3.10.10"
  },
  "orig_nbformat": 4
 },
 "nbformat": 4,
 "nbformat_minor": 2
}
